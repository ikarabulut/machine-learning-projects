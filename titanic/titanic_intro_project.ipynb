{
  "cells": [
    {
      "cell_type": "code",
      "execution_count": 102,
      "metadata": {},
      "outputs": [],
      "source": [
        "# Import pandas and load titanic dataset\n",
        "import pandas"
      ]
    },
    {
      "cell_type": "code",
      "execution_count": 103,
      "metadata": {},
      "outputs": [],
      "source": [
        "raw_data = pandas.read_csv('./titanic.csv', index_col='PassengerId')"
      ]
    },
    {
      "cell_type": "markdown",
      "metadata": {},
      "source": [
        "# Step 1: Study Dataset"
      ]
    },
    {
      "cell_type": "markdown",
      "metadata": {},
      "source": [
        "### Review features of dataset\n",
        "Through this cell we will review the total # of rows in the dataset to better understand its size. Then we review the features (columns) of the dataset and then iterate through each feature and print its first 5 rows as well as get the columns type."
      ]
    },
    {
      "cell_type": "code",
      "execution_count": 104,
      "metadata": {},
      "outputs": [
        {
          "name": "stdout",
          "output_type": "stream",
          "text": [
            "Num of rows:: 891\n",
            "Index(['Survived', 'Pclass', 'Name', 'Sex', 'Age', 'SibSp', 'Parch', 'Ticket',\n",
            "       'Fare', 'Cabin', 'Embarked'],\n",
            "      dtype='object')\n",
            "PassengerId\n",
            "1    0\n",
            "2    1\n",
            "3    1\n",
            "4    1\n",
            "5    0\n",
            "Name: Survived, dtype: int64\n",
            "PassengerId\n",
            "1    3\n",
            "2    1\n",
            "3    3\n",
            "4    1\n",
            "5    3\n",
            "Name: Pclass, dtype: int64\n",
            "PassengerId\n",
            "1                              Braund, Mr. Owen Harris\n",
            "2    Cumings, Mrs. John Bradley (Florence Briggs Th...\n",
            "3                               Heikkinen, Miss. Laina\n",
            "4         Futrelle, Mrs. Jacques Heath (Lily May Peel)\n",
            "5                             Allen, Mr. William Henry\n",
            "Name: Name, dtype: object\n",
            "PassengerId\n",
            "1      male\n",
            "2    female\n",
            "3    female\n",
            "4    female\n",
            "5      male\n",
            "Name: Sex, dtype: object\n",
            "PassengerId\n",
            "1    22.0\n",
            "2    38.0\n",
            "3    26.0\n",
            "4    35.0\n",
            "5    35.0\n",
            "Name: Age, dtype: float64\n",
            "PassengerId\n",
            "1    1\n",
            "2    1\n",
            "3    0\n",
            "4    1\n",
            "5    0\n",
            "Name: SibSp, dtype: int64\n",
            "PassengerId\n",
            "1    0\n",
            "2    0\n",
            "3    0\n",
            "4    0\n",
            "5    0\n",
            "Name: Parch, dtype: int64\n",
            "PassengerId\n",
            "1           A/5 21171\n",
            "2            PC 17599\n",
            "3    STON/O2. 3101282\n",
            "4              113803\n",
            "5              373450\n",
            "Name: Ticket, dtype: object\n",
            "PassengerId\n",
            "1     7.2500\n",
            "2    71.2833\n",
            "3     7.9250\n",
            "4    53.1000\n",
            "5     8.0500\n",
            "Name: Fare, dtype: float64\n",
            "PassengerId\n",
            "1     NaN\n",
            "2     C85\n",
            "3     NaN\n",
            "4    C123\n",
            "5     NaN\n",
            "Name: Cabin, dtype: object\n",
            "PassengerId\n",
            "1    S\n",
            "2    C\n",
            "3    S\n",
            "4    S\n",
            "5    S\n",
            "Name: Embarked, dtype: object\n"
          ]
        }
      ],
      "source": [
        "length = len(raw_data)\n",
        "columns = raw_data.columns\n",
        "\n",
        "print(\"Num of rows:: \" + str(length))\n",
        "print(raw_data.columns)\n",
        "\n",
        "for row in columns:\n",
        "  print(raw_data[row].head())"
      ]
    },
    {
      "cell_type": "markdown",
      "metadata": {},
      "source": [
        "# Step 2: Data Cleansing"
      ]
    },
    {
      "cell_type": "markdown",
      "metadata": {},
      "source": [
        "### Handling missing data\n",
        "Though the next few cells we are going to clean up our data with our first step being missing values."
      ]
    },
    {
      "cell_type": "code",
      "execution_count": 105,
      "metadata": {},
      "outputs": [
        {
          "data": {
            "text/plain": [
              "Survived      0\n",
              "Pclass        0\n",
              "Name          0\n",
              "Sex           0\n",
              "Age         177\n",
              "SibSp         0\n",
              "Parch         0\n",
              "Ticket        0\n",
              "Fare          0\n",
              "Cabin       687\n",
              "Embarked      2\n",
              "dtype: int64"
            ]
          },
          "execution_count": 105,
          "metadata": {},
          "output_type": "execute_result"
        }
      ],
      "source": [
        "# List out the null or na values in each column\n",
        "raw_data.isna().sum()"
      ]
    },
    {
      "cell_type": "markdown",
      "metadata": {},
      "source": [
        "You can see that `Cabin` has 687 empty values compared to the 891 total potential values. It can be safe to say that the `Cabin` feature is not helpful and can be dropped. We will also save this change to a new dataframe. "
      ]
    },
    {
      "cell_type": "code",
      "execution_count": 106,
      "metadata": {},
      "outputs": [],
      "source": [
        "clean_data = raw_data.drop('Cabin', axis=1) # We are setting axis to \"1\" to represent dropping the column whereas \"0\" would mean \"row\""
      ]
    },
    {
      "cell_type": "markdown",
      "metadata": {},
      "source": [
        "The next column to review is `Age` which has 177 missing values which is not very significant and the age feature is one that would be important for us to use so we would not want to drop it. In situations like this a common approach would be to take the median of every value in that column and apply that to the missing values."
      ]
    },
    {
      "cell_type": "code",
      "execution_count": 107,
      "metadata": {},
      "outputs": [],
      "source": [
        "median_age = clean_data[\"Age\"].median()\n",
        "clean_data[\"Age\"] = clean_data[\"Age\"].fillna(median_age)"
      ]
    },
    {
      "cell_type": "markdown",
      "metadata": {},
      "source": [
        "The third column missing data is `Embarked` which has only 2 missing values. The column is made up of strings not integers so an approach would be to group these missing values as one value \"U\" for unknown."
      ]
    },
    {
      "cell_type": "code",
      "execution_count": 108,
      "metadata": {},
      "outputs": [],
      "source": [
        "clean_data[\"Embarked\"] = clean_data[\"Embarked\"].fillna('U')"
      ]
    },
    {
      "cell_type": "code",
      "execution_count": 109,
      "metadata": {},
      "outputs": [],
      "source": [
        "# Save updated dataframe to a new CSV to not lose progress\n",
        "clean_data.to_csv('./clean_titanic_data.csv', index=None)"
      ]
    },
    {
      "cell_type": "markdown",
      "metadata": {},
      "source": [
        "# Step 3: Feature Engineering"
      ]
    },
    {
      "cell_type": "markdown",
      "metadata": {},
      "source": [
        "### 3.1: Turn categorical data into numerical data with One-hot encoding\n",
        "In order for our model to perform mathematical operations with our data we have to make sure all of the data is numerical.\n",
        "\n",
        "**One-hot encoding:** Look at a specific feature and then determine the number of classes within that feature. You will then create a new column (feature) specific to that one class within that feature. In the case of `Sex` you have \"male\" and \"female\". So you would add 2 new columns to the dataframe-- `gender_male && gender_female`\n",
        "- Keep in mind that if you have a feature with hundreds of classes then one-hot encoding will create a hundred new columns, and those columns will be filled with 0's and 1's."
      ]
    },
    {
      "cell_type": "code",
      "execution_count": 110,
      "metadata": {},
      "outputs": [],
      "source": [
        "preprocessed_data = pandas.read_csv('./clean_titanic_data.csv')\n",
        "\n",
        "gender_columns = pandas.get_dummies(preprocessed_data['Sex'], prefix='Sex')\n",
        "embarked_columns = pandas.get_dummies(\n",
        "    preprocessed_data['Embarked'], prefix='Embarked')\n",
        "\n",
        "preprocessed_data = pandas.concat([preprocessed_data, gender_columns], axis=1)\n",
        "preprocessed_data = pandas.concat([preprocessed_data, embarked_columns], axis=1)\n",
        "\n",
        "preprocessed_data = preprocessed_data.drop(['Sex', 'Embarked'], axis=1)"
      ]
    },
    {
      "cell_type": "code",
      "execution_count": 111,
      "metadata": {},
      "outputs": [
        {
          "name": "stdout",
          "output_type": "stream",
          "text": [
            "Index(['Survived', 'Pclass', 'Name', 'Age', 'SibSp', 'Parch', 'Ticket', 'Fare',\n",
            "       'Sex_female', 'Sex_male', 'Embarked_C', 'Embarked_Q', 'Embarked_S',\n",
            "       'Embarked_U'],\n",
            "      dtype='object')\n"
          ]
        }
      ],
      "source": [
        "preprocessed_data_columns = preprocessed_data.columns\n",
        "print(preprocessed_data_columns)"
      ]
    },
    {
      "cell_type": "markdown",
      "metadata": {},
      "source": [
        "### one-shot encoding for numerical classes\n",
        "Looking at the feature `Pclass` we see that there are 3 numbers representing it. 3, 2, 1 representing first class, second class, and third class. In order to determine if we would want to apply one-shot encoding we should see how this feature plays a role in our predicted outcome. We will view this through the following code"
      ]
    },
    {
      "cell_type": "code",
      "execution_count": 112,
      "metadata": {},
      "outputs": [
        {
          "name": "stdout",
          "output_type": "stream",
          "text": [
            "In first class 62.96296296296296 % of passengers survived\n",
            "In second class 47.28260869565217 % of passengers survived\n",
            "In third class 24.236252545824847 % of passengers survived\n"
          ]
        }
      ],
      "source": [
        "class_survived = preprocessed_data[['Pclass', 'Survived']]\n",
        "\n",
        "first_class = class_survived[class_survived['Pclass'] == 1]\n",
        "second_class = class_survived[class_survived['Pclass'] == 2]\n",
        "third_class = class_survived[class_survived['Pclass'] == 3]\n",
        "\n",
        "print(\"In first class\", sum(first_class['Survived'])/len(first_class)*100, \"% of passengers survived\")\n",
        "print(\"In second class\", sum(second_class['Survived'])/len(second_class)*100, \"% of passengers survived\")\n",
        "print(\"In third class\", sum(third_class['Survived'])/len(third_class)*100, \"% of passengers survived\")"
      ]
    },
    {
      "cell_type": "markdown",
      "metadata": {},
      "source": [
        "We can see that passengers in third class had the lowest chance of survival so in this case it would make sense to leave this feature as a linear feature where the higher the number the less of a chance of survival. For the projects sake we will still apply one-shot encoding and can apply changes in the future to see how the model reacts."
      ]
    },
    {
      "cell_type": "code",
      "execution_count": 113,
      "metadata": {},
      "outputs": [
        {
          "name": "stdout",
          "output_type": "stream",
          "text": [
            "Index(['Survived', 'Name', 'Age', 'SibSp', 'Parch', 'Ticket', 'Fare',\n",
            "       'Sex_female', 'Sex_male', 'Embarked_C', 'Embarked_Q', 'Embarked_S',\n",
            "       'Embarked_U', 'Pclass_1', 'Pclass_2', 'Pclass_3'],\n",
            "      dtype='object')\n"
          ]
        }
      ],
      "source": [
        "categorized_pclass_columns = pandas.get_dummies(preprocessed_data['Pclass'], prefix='Pclass')\n",
        "preprocessed_data = pandas.concat([preprocessed_data, categorized_pclass_columns], axis=1)\n",
        "preprocessed_data = preprocessed_data.drop(['Pclass'], axis=1)\n",
        "\n",
        "preprocessed_data_columns = preprocessed_data.columns\n",
        "print(preprocessed_data_columns)"
      ]
    },
    {
      "cell_type": "markdown",
      "metadata": {},
      "source": [
        "### Binning: Turning numerical data into categorical data\n",
        "An example of when we would want to turn numerical data into categorical data would be through `Binning` which is the process of splitting numbers into several different buckets\n",
        "\n",
        "Age is a good example, in the context of this titanic model we would want to answer the question: how does age effect the passengers chance of survival? In a linear model this could be grouped into two categories-- the older you are the the less likely you are to survive and vice versa. But what if this relationship is not as straightforward? \n",
        "\n",
        "The process of binning is similar to one-shot encoding where it will create new columns for each bin."
      ]
    },
    {
      "cell_type": "code",
      "execution_count": 114,
      "metadata": {},
      "outputs": [
        {
          "name": "stdout",
          "output_type": "stream",
          "text": [
            "0      (20, 30]\n",
            "1      (30, 40]\n",
            "2      (20, 30]\n",
            "3      (30, 40]\n",
            "4      (30, 40]\n",
            "         ...   \n",
            "886    (20, 30]\n",
            "887    (10, 20]\n",
            "888    (20, 30]\n",
            "889    (20, 30]\n",
            "890    (30, 40]\n",
            "Name: Age, Length: 891, dtype: category\n",
            "Categories (8, interval[int64, right]): [(0, 10] < (10, 20] < (20, 30] < (30, 40] < (40, 50] < (50, 60] < (60, 70] < (70, 80]]\n",
            "Index(['Survived', 'Name', 'SibSp', 'Parch', 'Ticket', 'Fare', 'Sex_female',\n",
            "       'Sex_male', 'Embarked_C', 'Embarked_Q', 'Embarked_S', 'Embarked_U',\n",
            "       'Pclass_1', 'Pclass_2', 'Pclass_3', 'Categorized_age'],\n",
            "      dtype='object')\n"
          ]
        }
      ],
      "source": [
        "bins = [0, 10, 20, 30, 40, 50, 60, 70, 80]\n",
        "categorized_age = pandas.cut(preprocessed_data['Age'], bins)\n",
        "print(categorized_age)\n",
        "preprocessed_data['Categorized_age'] = categorized_age\n",
        "preprocessed_data = preprocessed_data.drop(['Age'], axis=1)\n",
        "\n",
        "# You will see that this will update `Categorized_age` values into a range of numbers\n",
        "preprocessed_data_columns = preprocessed_data.columns\n",
        "print(preprocessed_data_columns)"
      ]
    },
    {
      "cell_type": "code",
      "execution_count": 115,
      "metadata": {},
      "outputs": [],
      "source": [
        "categorized_aged_columns = pandas.get_dummies(preprocessed_data['Categorized_age'], prefix='Categorized_age')\n",
        "preprocessed_data = pandas.concat([preprocessed_data, categorized_aged_columns], axis= 1)\n",
        "preprocessed_data = preprocessed_data.drop(['Categorized_age'], axis=1)"
      ]
    },
    {
      "cell_type": "code",
      "execution_count": 116,
      "metadata": {},
      "outputs": [
        {
          "data": {
            "text/html": [
              "<div>\n",
              "<style scoped>\n",
              "    .dataframe tbody tr th:only-of-type {\n",
              "        vertical-align: middle;\n",
              "    }\n",
              "\n",
              "    .dataframe tbody tr th {\n",
              "        vertical-align: top;\n",
              "    }\n",
              "\n",
              "    .dataframe thead th {\n",
              "        text-align: right;\n",
              "    }\n",
              "</style>\n",
              "<table border=\"1\" class=\"dataframe\">\n",
              "  <thead>\n",
              "    <tr style=\"text-align: right;\">\n",
              "      <th></th>\n",
              "      <th>Survived</th>\n",
              "      <th>Name</th>\n",
              "      <th>SibSp</th>\n",
              "      <th>Parch</th>\n",
              "      <th>Ticket</th>\n",
              "      <th>Fare</th>\n",
              "      <th>Sex_female</th>\n",
              "      <th>Sex_male</th>\n",
              "      <th>Embarked_C</th>\n",
              "      <th>Embarked_Q</th>\n",
              "      <th>...</th>\n",
              "      <th>Pclass_2</th>\n",
              "      <th>Pclass_3</th>\n",
              "      <th>Categorized_age_(0, 10]</th>\n",
              "      <th>Categorized_age_(10, 20]</th>\n",
              "      <th>Categorized_age_(20, 30]</th>\n",
              "      <th>Categorized_age_(30, 40]</th>\n",
              "      <th>Categorized_age_(40, 50]</th>\n",
              "      <th>Categorized_age_(50, 60]</th>\n",
              "      <th>Categorized_age_(60, 70]</th>\n",
              "      <th>Categorized_age_(70, 80]</th>\n",
              "    </tr>\n",
              "  </thead>\n",
              "  <tbody>\n",
              "    <tr>\n",
              "      <th>0</th>\n",
              "      <td>0</td>\n",
              "      <td>Braund, Mr. Owen Harris</td>\n",
              "      <td>1</td>\n",
              "      <td>0</td>\n",
              "      <td>A/5 21171</td>\n",
              "      <td>7.2500</td>\n",
              "      <td>False</td>\n",
              "      <td>True</td>\n",
              "      <td>False</td>\n",
              "      <td>False</td>\n",
              "      <td>...</td>\n",
              "      <td>False</td>\n",
              "      <td>True</td>\n",
              "      <td>False</td>\n",
              "      <td>False</td>\n",
              "      <td>True</td>\n",
              "      <td>False</td>\n",
              "      <td>False</td>\n",
              "      <td>False</td>\n",
              "      <td>False</td>\n",
              "      <td>False</td>\n",
              "    </tr>\n",
              "    <tr>\n",
              "      <th>1</th>\n",
              "      <td>1</td>\n",
              "      <td>Cumings, Mrs. John Bradley (Florence Briggs Th...</td>\n",
              "      <td>1</td>\n",
              "      <td>0</td>\n",
              "      <td>PC 17599</td>\n",
              "      <td>71.2833</td>\n",
              "      <td>True</td>\n",
              "      <td>False</td>\n",
              "      <td>True</td>\n",
              "      <td>False</td>\n",
              "      <td>...</td>\n",
              "      <td>False</td>\n",
              "      <td>False</td>\n",
              "      <td>False</td>\n",
              "      <td>False</td>\n",
              "      <td>False</td>\n",
              "      <td>True</td>\n",
              "      <td>False</td>\n",
              "      <td>False</td>\n",
              "      <td>False</td>\n",
              "      <td>False</td>\n",
              "    </tr>\n",
              "    <tr>\n",
              "      <th>2</th>\n",
              "      <td>1</td>\n",
              "      <td>Heikkinen, Miss. Laina</td>\n",
              "      <td>0</td>\n",
              "      <td>0</td>\n",
              "      <td>STON/O2. 3101282</td>\n",
              "      <td>7.9250</td>\n",
              "      <td>True</td>\n",
              "      <td>False</td>\n",
              "      <td>False</td>\n",
              "      <td>False</td>\n",
              "      <td>...</td>\n",
              "      <td>False</td>\n",
              "      <td>True</td>\n",
              "      <td>False</td>\n",
              "      <td>False</td>\n",
              "      <td>True</td>\n",
              "      <td>False</td>\n",
              "      <td>False</td>\n",
              "      <td>False</td>\n",
              "      <td>False</td>\n",
              "      <td>False</td>\n",
              "    </tr>\n",
              "    <tr>\n",
              "      <th>3</th>\n",
              "      <td>1</td>\n",
              "      <td>Futrelle, Mrs. Jacques Heath (Lily May Peel)</td>\n",
              "      <td>1</td>\n",
              "      <td>0</td>\n",
              "      <td>113803</td>\n",
              "      <td>53.1000</td>\n",
              "      <td>True</td>\n",
              "      <td>False</td>\n",
              "      <td>False</td>\n",
              "      <td>False</td>\n",
              "      <td>...</td>\n",
              "      <td>False</td>\n",
              "      <td>False</td>\n",
              "      <td>False</td>\n",
              "      <td>False</td>\n",
              "      <td>False</td>\n",
              "      <td>True</td>\n",
              "      <td>False</td>\n",
              "      <td>False</td>\n",
              "      <td>False</td>\n",
              "      <td>False</td>\n",
              "    </tr>\n",
              "    <tr>\n",
              "      <th>4</th>\n",
              "      <td>0</td>\n",
              "      <td>Allen, Mr. William Henry</td>\n",
              "      <td>0</td>\n",
              "      <td>0</td>\n",
              "      <td>373450</td>\n",
              "      <td>8.0500</td>\n",
              "      <td>False</td>\n",
              "      <td>True</td>\n",
              "      <td>False</td>\n",
              "      <td>False</td>\n",
              "      <td>...</td>\n",
              "      <td>False</td>\n",
              "      <td>True</td>\n",
              "      <td>False</td>\n",
              "      <td>False</td>\n",
              "      <td>False</td>\n",
              "      <td>True</td>\n",
              "      <td>False</td>\n",
              "      <td>False</td>\n",
              "      <td>False</td>\n",
              "      <td>False</td>\n",
              "    </tr>\n",
              "  </tbody>\n",
              "</table>\n",
              "<p>5 rows × 23 columns</p>\n",
              "</div>"
            ],
            "text/plain": [
              "   Survived                                               Name  SibSp  Parch  \\\n",
              "0         0                            Braund, Mr. Owen Harris      1      0   \n",
              "1         1  Cumings, Mrs. John Bradley (Florence Briggs Th...      1      0   \n",
              "2         1                             Heikkinen, Miss. Laina      0      0   \n",
              "3         1       Futrelle, Mrs. Jacques Heath (Lily May Peel)      1      0   \n",
              "4         0                           Allen, Mr. William Henry      0      0   \n",
              "\n",
              "             Ticket     Fare  Sex_female  Sex_male  Embarked_C  Embarked_Q  \\\n",
              "0         A/5 21171   7.2500       False      True       False       False   \n",
              "1          PC 17599  71.2833        True     False        True       False   \n",
              "2  STON/O2. 3101282   7.9250        True     False       False       False   \n",
              "3            113803  53.1000        True     False       False       False   \n",
              "4            373450   8.0500       False      True       False       False   \n",
              "\n",
              "   ...  Pclass_2  Pclass_3  Categorized_age_(0, 10]  Categorized_age_(10, 20]  \\\n",
              "0  ...     False      True                    False                     False   \n",
              "1  ...     False     False                    False                     False   \n",
              "2  ...     False      True                    False                     False   \n",
              "3  ...     False     False                    False                     False   \n",
              "4  ...     False      True                    False                     False   \n",
              "\n",
              "   Categorized_age_(20, 30]  Categorized_age_(30, 40]  \\\n",
              "0                      True                     False   \n",
              "1                     False                      True   \n",
              "2                      True                     False   \n",
              "3                     False                      True   \n",
              "4                     False                      True   \n",
              "\n",
              "   Categorized_age_(40, 50]  Categorized_age_(50, 60]  \\\n",
              "0                     False                     False   \n",
              "1                     False                     False   \n",
              "2                     False                     False   \n",
              "3                     False                     False   \n",
              "4                     False                     False   \n",
              "\n",
              "   Categorized_age_(60, 70]  Categorized_age_(70, 80]  \n",
              "0                     False                     False  \n",
              "1                     False                     False  \n",
              "2                     False                     False  \n",
              "3                     False                     False  \n",
              "4                     False                     False  \n",
              "\n",
              "[5 rows x 23 columns]"
            ]
          },
          "execution_count": 116,
          "metadata": {},
          "output_type": "execute_result"
        }
      ],
      "source": [
        "preprocessed_data.head()"
      ]
    },
    {
      "cell_type": "markdown",
      "metadata": {},
      "source": [
        "## Feature Selection\n",
        "Determine which columns are unecessary for our model. One of which would be \"Name\" which is unique for each passenger and would provide the model no insight into how the name relates to the passengers chance of survival, or in general that name doesn't relate for the matter of this dataset. We will drop `Name` `Ticket` and `PassengerId` "
      ]
    },
    {
      "cell_type": "code",
      "execution_count": 117,
      "metadata": {},
      "outputs": [],
      "source": [
        "preprocessed_data = preprocessed_data.drop(['Name', 'Ticket'], axis=1)"
      ]
    },
    {
      "cell_type": "code",
      "execution_count": 118,
      "metadata": {},
      "outputs": [
        {
          "data": {
            "text/html": [
              "<div>\n",
              "<style scoped>\n",
              "    .dataframe tbody tr th:only-of-type {\n",
              "        vertical-align: middle;\n",
              "    }\n",
              "\n",
              "    .dataframe tbody tr th {\n",
              "        vertical-align: top;\n",
              "    }\n",
              "\n",
              "    .dataframe thead th {\n",
              "        text-align: right;\n",
              "    }\n",
              "</style>\n",
              "<table border=\"1\" class=\"dataframe\">\n",
              "  <thead>\n",
              "    <tr style=\"text-align: right;\">\n",
              "      <th></th>\n",
              "      <th>Survived</th>\n",
              "      <th>SibSp</th>\n",
              "      <th>Parch</th>\n",
              "      <th>Fare</th>\n",
              "      <th>Sex_female</th>\n",
              "      <th>Sex_male</th>\n",
              "      <th>Embarked_C</th>\n",
              "      <th>Embarked_Q</th>\n",
              "      <th>Embarked_S</th>\n",
              "      <th>Embarked_U</th>\n",
              "      <th>...</th>\n",
              "      <th>Pclass_2</th>\n",
              "      <th>Pclass_3</th>\n",
              "      <th>Categorized_age_(0, 10]</th>\n",
              "      <th>Categorized_age_(10, 20]</th>\n",
              "      <th>Categorized_age_(20, 30]</th>\n",
              "      <th>Categorized_age_(30, 40]</th>\n",
              "      <th>Categorized_age_(40, 50]</th>\n",
              "      <th>Categorized_age_(50, 60]</th>\n",
              "      <th>Categorized_age_(60, 70]</th>\n",
              "      <th>Categorized_age_(70, 80]</th>\n",
              "    </tr>\n",
              "  </thead>\n",
              "  <tbody>\n",
              "    <tr>\n",
              "      <th>0</th>\n",
              "      <td>0</td>\n",
              "      <td>1</td>\n",
              "      <td>0</td>\n",
              "      <td>7.2500</td>\n",
              "      <td>False</td>\n",
              "      <td>True</td>\n",
              "      <td>False</td>\n",
              "      <td>False</td>\n",
              "      <td>True</td>\n",
              "      <td>False</td>\n",
              "      <td>...</td>\n",
              "      <td>False</td>\n",
              "      <td>True</td>\n",
              "      <td>False</td>\n",
              "      <td>False</td>\n",
              "      <td>True</td>\n",
              "      <td>False</td>\n",
              "      <td>False</td>\n",
              "      <td>False</td>\n",
              "      <td>False</td>\n",
              "      <td>False</td>\n",
              "    </tr>\n",
              "    <tr>\n",
              "      <th>1</th>\n",
              "      <td>1</td>\n",
              "      <td>1</td>\n",
              "      <td>0</td>\n",
              "      <td>71.2833</td>\n",
              "      <td>True</td>\n",
              "      <td>False</td>\n",
              "      <td>True</td>\n",
              "      <td>False</td>\n",
              "      <td>False</td>\n",
              "      <td>False</td>\n",
              "      <td>...</td>\n",
              "      <td>False</td>\n",
              "      <td>False</td>\n",
              "      <td>False</td>\n",
              "      <td>False</td>\n",
              "      <td>False</td>\n",
              "      <td>True</td>\n",
              "      <td>False</td>\n",
              "      <td>False</td>\n",
              "      <td>False</td>\n",
              "      <td>False</td>\n",
              "    </tr>\n",
              "    <tr>\n",
              "      <th>2</th>\n",
              "      <td>1</td>\n",
              "      <td>0</td>\n",
              "      <td>0</td>\n",
              "      <td>7.9250</td>\n",
              "      <td>True</td>\n",
              "      <td>False</td>\n",
              "      <td>False</td>\n",
              "      <td>False</td>\n",
              "      <td>True</td>\n",
              "      <td>False</td>\n",
              "      <td>...</td>\n",
              "      <td>False</td>\n",
              "      <td>True</td>\n",
              "      <td>False</td>\n",
              "      <td>False</td>\n",
              "      <td>True</td>\n",
              "      <td>False</td>\n",
              "      <td>False</td>\n",
              "      <td>False</td>\n",
              "      <td>False</td>\n",
              "      <td>False</td>\n",
              "    </tr>\n",
              "    <tr>\n",
              "      <th>3</th>\n",
              "      <td>1</td>\n",
              "      <td>1</td>\n",
              "      <td>0</td>\n",
              "      <td>53.1000</td>\n",
              "      <td>True</td>\n",
              "      <td>False</td>\n",
              "      <td>False</td>\n",
              "      <td>False</td>\n",
              "      <td>True</td>\n",
              "      <td>False</td>\n",
              "      <td>...</td>\n",
              "      <td>False</td>\n",
              "      <td>False</td>\n",
              "      <td>False</td>\n",
              "      <td>False</td>\n",
              "      <td>False</td>\n",
              "      <td>True</td>\n",
              "      <td>False</td>\n",
              "      <td>False</td>\n",
              "      <td>False</td>\n",
              "      <td>False</td>\n",
              "    </tr>\n",
              "    <tr>\n",
              "      <th>4</th>\n",
              "      <td>0</td>\n",
              "      <td>0</td>\n",
              "      <td>0</td>\n",
              "      <td>8.0500</td>\n",
              "      <td>False</td>\n",
              "      <td>True</td>\n",
              "      <td>False</td>\n",
              "      <td>False</td>\n",
              "      <td>True</td>\n",
              "      <td>False</td>\n",
              "      <td>...</td>\n",
              "      <td>False</td>\n",
              "      <td>True</td>\n",
              "      <td>False</td>\n",
              "      <td>False</td>\n",
              "      <td>False</td>\n",
              "      <td>True</td>\n",
              "      <td>False</td>\n",
              "      <td>False</td>\n",
              "      <td>False</td>\n",
              "      <td>False</td>\n",
              "    </tr>\n",
              "  </tbody>\n",
              "</table>\n",
              "<p>5 rows × 21 columns</p>\n",
              "</div>"
            ],
            "text/plain": [
              "   Survived  SibSp  Parch     Fare  Sex_female  Sex_male  Embarked_C  \\\n",
              "0         0      1      0   7.2500       False      True       False   \n",
              "1         1      1      0  71.2833        True     False        True   \n",
              "2         1      0      0   7.9250        True     False       False   \n",
              "3         1      1      0  53.1000        True     False       False   \n",
              "4         0      0      0   8.0500       False      True       False   \n",
              "\n",
              "   Embarked_Q  Embarked_S  Embarked_U  ...  Pclass_2  Pclass_3  \\\n",
              "0       False        True       False  ...     False      True   \n",
              "1       False       False       False  ...     False     False   \n",
              "2       False        True       False  ...     False      True   \n",
              "3       False        True       False  ...     False     False   \n",
              "4       False        True       False  ...     False      True   \n",
              "\n",
              "   Categorized_age_(0, 10]  Categorized_age_(10, 20]  \\\n",
              "0                    False                     False   \n",
              "1                    False                     False   \n",
              "2                    False                     False   \n",
              "3                    False                     False   \n",
              "4                    False                     False   \n",
              "\n",
              "   Categorized_age_(20, 30]  Categorized_age_(30, 40]  \\\n",
              "0                      True                     False   \n",
              "1                     False                      True   \n",
              "2                      True                     False   \n",
              "3                     False                      True   \n",
              "4                     False                      True   \n",
              "\n",
              "   Categorized_age_(40, 50]  Categorized_age_(50, 60]  \\\n",
              "0                     False                     False   \n",
              "1                     False                     False   \n",
              "2                     False                     False   \n",
              "3                     False                     False   \n",
              "4                     False                     False   \n",
              "\n",
              "   Categorized_age_(60, 70]  Categorized_age_(70, 80]  \n",
              "0                     False                     False  \n",
              "1                     False                     False  \n",
              "2                     False                     False  \n",
              "3                     False                     False  \n",
              "4                     False                     False  \n",
              "\n",
              "[5 rows x 21 columns]"
            ]
          },
          "execution_count": 118,
          "metadata": {},
          "output_type": "execute_result"
        }
      ],
      "source": [
        "preprocessed_data.head()"
      ]
    },
    {
      "cell_type": "code",
      "execution_count": 119,
      "metadata": {},
      "outputs": [],
      "source": [
        "preprocessed_data.to_csv('preprocessed_titanic_data.csv', index=None)"
      ]
    }
  ],
  "metadata": {
    "kernelspec": {
      "display_name": "titanic",
      "language": "python",
      "name": "python3"
    },
    "language_info": {
      "codemirror_mode": {
        "name": "ipython",
        "version": 3
      },
      "file_extension": ".py",
      "mimetype": "text/x-python",
      "name": "python",
      "nbconvert_exporter": "python",
      "pygments_lexer": "ipython3",
      "version": "3.10.13"
    }
  },
  "nbformat": 4,
  "nbformat_minor": 2
}
